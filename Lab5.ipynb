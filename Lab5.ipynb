{
 "cells": [
  {
   "cell_type": "code",
   "execution_count": 5,
   "metadata": {},
   "outputs": [
    {
     "name": "stdout",
     "output_type": "stream",
     "text": [
      "Колдуны\n",
      "[[ 0.   0.2  0.7  0.8]\n",
      " [ 0.   0.3  0.7  0.5]\n",
      " [ 0.5  0.5  0.5  0.5]\n",
      " [ 0.7  0.4  0.4  0.6]\n",
      " [ 0.7  0.7  0.3  0.3]]\n",
      "\n",
      "\n",
      "Волшебники\n",
      "[[ 0.   0.3  0.3  0.7  0. ]\n",
      " [ 0.3  0.1  0.7  0.3  0.8]\n",
      " [ 0.8  0.6  0.5  0.4  0.3]\n",
      " [ 0.8  0.8  0.5  0.6  0.2]]\n",
      "\n",
      "\n",
      "Колдуны и Волшебники\n",
      "[0.64000000000000012, 0.48999999999999994, 0.40000000000000002, 0.47999999999999998, 0.23999999999999999, 0.48999999999999994, 0.48999999999999994, 0.34999999999999998, 0.29999999999999999, 0.20999999999999999, 0.40000000000000002, 0.34999999999999998, 0.25, 0.34999999999999998, 0.34999999999999998, 0.47999999999999998, 0.29999999999999999, 0.34999999999999998, 0.48999999999999994, 0.48999999999999994, 0.23999999999999999, 0.20999999999999999, 0.34999999999999998, 0.48999999999999994, 0.48999999999999994]\n"
     ]
    }
   ],
   "source": [
    "\n",
    "import numpy as np\n",
    "from pyDatalog import pyDatalog\n",
    "from pyDatalog import pyEngine\n",
    "\n",
    "array1 = np.array([[0, .2, .7, .8 ], [0, .3, .7, .5], [.5, .5, .5, .5], [.7, .4, .4, .6 ], [.7, .7, .3, .3]])\n",
    "\n",
    "array2 = np.array([[0, .2, .7, .8 ], [0, .3, .7, .5], [.5, .5, .5, .5], [.7, .4, .4, .6 ], [.7, .7, .3, .3]])\n",
    "\n",
    "\n",
    "print(\"Колдуны\")\n",
    "print(arr1)\n",
    "print(\"\\n\")\n",
    "print(\"Волшебники\")\n",
    "print(arr2)\n",
    "print(\"\\n\")\n",
    "\n",
    "matrix = []\n",
    "for i in array1:\n",
    "    for j in array2:\n",
    "        matrix.append(max(np.multiply(i, j)))\n",
    "\n",
    "\n",
    "print(\"Колдуны и Волшебники\")\n",
    "print(matrix)"
   ]
  },
  {
   "cell_type": "code",
   "execution_count": null,
   "metadata": {
    "collapsed": true
   },
   "outputs": [],
   "source": []
  },
  {
   "cell_type": "code",
   "execution_count": null,
   "metadata": {
    "collapsed": true
   },
   "outputs": [],
   "source": []
  }
 ],
 "metadata": {
  "kernelspec": {
   "display_name": "Python 3",
   "language": "python",
   "name": "python3"
  },
  "language_info": {
   "codemirror_mode": {
    "name": "ipython",
    "version": 3
   },
   "file_extension": ".py",
   "mimetype": "text/x-python",
   "name": "python",
   "nbconvert_exporter": "python",
   "pygments_lexer": "ipython3",
   "version": "3.6.1"
  }
 },
 "nbformat": 4,
 "nbformat_minor": 2
}
